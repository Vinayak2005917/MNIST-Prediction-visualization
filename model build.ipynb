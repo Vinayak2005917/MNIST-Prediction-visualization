{
 "cells": [
  {
   "cell_type": "code",
   "execution_count": 11,
   "id": "d8b2f8c4",
   "metadata": {},
   "outputs": [
    {
     "name": "stdout",
     "output_type": "stream",
     "text": [
      "Using device: cpu\n"
     ]
    }
   ],
   "source": [
    "import torch\n",
    "import torch.nn as nn\n",
    "import torch.optim as optim\n",
    "from torchvision import datasets, transforms\n",
    "from torch.utils.data import DataLoader\n",
    "import matplotlib.pyplot as plt\n",
    "\n",
    "device = torch.device(\"cuda\" if torch.cuda.is_available() else \"cpu\")\n",
    "print(\"Using device:\", device)\n"
   ]
  },
  {
   "cell_type": "code",
   "execution_count": 13,
   "id": "38b95742",
   "metadata": {},
   "outputs": [],
   "source": [
    "transform = transforms.Compose([\n",
    "    transforms.ToTensor(),\n",
    "    transforms.Normalize((0.1307,), (0.3081,))\n",
    "])\n",
    "\n",
    "train_dataset = datasets.MNIST(root='./data', train=True, download=True, transform=transform)\n",
    "test_dataset = datasets.MNIST(root='./data', train=False, download=True, transform=transform)\n",
    "\n",
    "train_loader = DataLoader(dataset=train_dataset, batch_size=64, shuffle=True)\n",
    "test_loader = DataLoader(dataset=test_dataset, batch_size=1000, shuffle=False)\n"
   ]
  },
  {
   "cell_type": "code",
   "execution_count": 15,
   "id": "f617d013",
   "metadata": {},
   "outputs": [],
   "source": [
    "class MNISTNet(nn.Module):\n",
    "    def __init__(self):\n",
    "        super(MNISTNet, self).__init__()\n",
    "        self.fc1 = nn.Linear(28*28, 128)\n",
    "        self.fc2 = nn.Linear(128, 64)\n",
    "        self.fc3 = nn.Linear(64, 10)\n",
    "        self.relu = nn.ReLU()\n",
    "\n",
    "    def forward(self, x):\n",
    "        x = x.view(-1, 28*28)\n",
    "        x = self.relu(self.fc1(x))\n",
    "        x = self.relu(self.fc2(x))\n",
    "        x = self.fc3(x)\n",
    "        return x\n",
    "\n",
    "model = MNISTNet().to(device)"
   ]
  },
  {
   "cell_type": "code",
   "execution_count": 16,
   "id": "3646a25a",
   "metadata": {},
   "outputs": [],
   "source": [
    "criterion = nn.CrossEntropyLoss()\n",
    "optimizer = optim.Adam(model.parameters(), lr=0.001)"
   ]
  },
  {
   "cell_type": "code",
   "execution_count": 17,
   "id": "f01a07af",
   "metadata": {},
   "outputs": [
    {
     "name": "stdout",
     "output_type": "stream",
     "text": [
      "Epoch [1/20], Loss: 254.9725\n",
      "Epoch [2/20], Loss: 105.4269\n",
      "Epoch [3/20], Loss: 75.4619\n",
      "Epoch [4/20], Loss: 57.3910\n",
      "Epoch [5/20], Loss: 45.7533\n",
      "Epoch [6/20], Loss: 37.5149\n",
      "Epoch [7/20], Loss: 31.5153\n",
      "Epoch [8/20], Loss: 26.8191\n",
      "Epoch [9/20], Loss: 26.6334\n",
      "Epoch [10/20], Loss: 21.1173\n",
      "Epoch [11/20], Loss: 19.2190\n",
      "Epoch [12/20], Loss: 19.5657\n",
      "Epoch [13/20], Loss: 16.1058\n",
      "Epoch [14/20], Loss: 16.0196\n",
      "Epoch [15/20], Loss: 12.4565\n",
      "Epoch [16/20], Loss: 16.1686\n",
      "Epoch [17/20], Loss: 14.7064\n",
      "Epoch [18/20], Loss: 12.4440\n",
      "Epoch [19/20], Loss: 10.8782\n",
      "Epoch [20/20], Loss: 8.0326\n"
     ]
    }
   ],
   "source": [
    "epochs = 20\n",
    "for epoch in range(epochs):\n",
    "    model.train()\n",
    "    total_loss = 0\n",
    "    for images, labels in train_loader:\n",
    "        images, labels = images.to(device), labels.to(device)\n",
    "\n",
    "        optimizer.zero_grad()\n",
    "        output = model(images)\n",
    "        loss = criterion(output, labels)\n",
    "        loss.backward()\n",
    "        optimizer.step()\n",
    "\n",
    "        total_loss += loss.item()\n",
    "\n",
    "    print(f\"Epoch [{epoch+1}/{epochs}], Loss: {total_loss:.4f}\")"
   ]
  },
  {
   "cell_type": "code",
   "execution_count": 18,
   "id": "e0445318",
   "metadata": {},
   "outputs": [
    {
     "name": "stdout",
     "output_type": "stream",
     "text": [
      "\n",
      "Test Accuracy: 97.93%\n"
     ]
    }
   ],
   "source": [
    "model.eval()\n",
    "correct = 0\n",
    "total = 0\n",
    "with torch.no_grad():\n",
    "    for images, labels in test_loader:\n",
    "        images, labels = images.to(device), labels.to(device)\n",
    "        output = model(images)\n",
    "        _, predicted = torch.max(output.data, 1)\n",
    "        total += labels.size(0)\n",
    "        correct += (predicted == labels).sum().item()\n",
    "\n",
    "print(f\"\\nTest Accuracy: {100 * correct / total:.2f}%\")"
   ]
  },
  {
   "cell_type": "code",
   "execution_count": 19,
   "id": "ae564cfd",
   "metadata": {},
   "outputs": [
    {
     "name": "stdout",
     "output_type": "stream",
     "text": [
      "Model saved as mnist_model.pth\n"
     ]
    }
   ],
   "source": [
    "torch.save(model.state_dict(), \"mnist_model.pth\")\n",
    "print(\"Model saved as mnist_model.pth\")"
   ]
  },
  {
   "cell_type": "code",
   "execution_count": 25,
   "id": "dbb971b9",
   "metadata": {},
   "outputs": [
    {
     "name": "stdout",
     "output_type": "stream",
     "text": [
      "Model loaded and ready for inference!\n",
      "=== Image Analysis ===\n",
      "Image mean: 23.51\n",
      "Mean > 127? False (NEW logic: would trigger inversion)\n",
      "Mean < 127? True (OLD logic: would trigger inversion)\n",
      "\n",
      "=== Direct Model Test ===\n",
      "Actual label: 7\n",
      "Direct prediction: 7\n",
      "\n",
      "=== File-based Test (Updated) ===\n",
      "File-based predictions:\n",
      "0: 0.0000\n",
      "1: 0.0000\n",
      "2: 0.0000\n",
      "3: 0.0000\n",
      "4: 0.0000\n",
      "5: 0.0000\n",
      "6: 0.0000\n",
      "7: 1.0000\n",
      "8: 0.0000\n",
      "9: 0.0000\n"
     ]
    }
   ],
   "source": [
    "# Test the updated model loading\n",
    "import numpy as np\n",
    "from PIL import Image, ImageOps\n",
    "import importlib\n",
    "import sys\n",
    "\n",
    "# Import and reload Model_load to get latest changes\n",
    "try:\n",
    "    import Model_load\n",
    "    importlib.reload(Model_load)\n",
    "except:\n",
    "    import Model_load\n",
    "\n",
    "def test_model_with_sample():\n",
    "    # Load a test image from the test dataset\n",
    "    test_image, test_label = test_dataset[0]\n",
    "    \n",
    "    # Convert tensor back to PIL Image for testing\n",
    "    test_img_array = test_image.squeeze().numpy()\n",
    "    \n",
    "    # Properly denormalize\n",
    "    test_img_array = test_img_array * 0.3081 + 0.1307\n",
    "    \n",
    "    # Convert to 0-255 range and ensure proper data type\n",
    "    test_img_array = np.clip(test_img_array * 255, 0, 255).astype(np.uint8)\n",
    "    test_pil = Image.fromarray(test_img_array)\n",
    "    \n",
    "    # Save it temporarily\n",
    "    test_pil.save(\"test_sample.png\")\n",
    "    \n",
    "    print(\"=== Image Analysis ===\")\n",
    "    print(f\"Image mean: {np.mean(test_img_array):.2f}\")\n",
    "    print(f\"Mean > 127? {np.mean(test_img_array) > 127} (NEW logic: would trigger inversion)\")\n",
    "    print(f\"Mean < 127? {np.mean(test_img_array) < 127} (OLD logic: would trigger inversion)\")\n",
    "    \n",
    "    # Test direct model prediction\n",
    "    print(\"\\n=== Direct Model Test ===\")\n",
    "    model_cpu = model.cpu()\n",
    "    with torch.no_grad():\n",
    "        output = model_cpu(test_image.unsqueeze(0))\n",
    "        predicted_direct = torch.argmax(output, dim=1).item()\n",
    "    \n",
    "    print(f\"Actual label: {test_label}\")\n",
    "    print(f\"Direct prediction: {predicted_direct}\")\n",
    "    \n",
    "    # Test file-based prediction\n",
    "    print(\"\\n=== File-based Test (Updated) ===\")\n",
    "    result = Model_load.predict_mnist_probabilities(\"test_sample.png\")\n",
    "    \n",
    "    print(\"File-based predictions:\")\n",
    "    print(result)\n",
    "    \n",
    "    # Clean up\n",
    "    import os\n",
    "    if os.path.exists(\"test_sample.png\"):\n",
    "        os.remove(\"test_sample.png\")\n",
    "\n",
    "# Run the test\n",
    "test_model_with_sample()"
   ]
  }
 ],
 "metadata": {
  "kernelspec": {
   "display_name": "Python 3",
   "language": "python",
   "name": "python3"
  },
  "language_info": {
   "codemirror_mode": {
    "name": "ipython",
    "version": 3
   },
   "file_extension": ".py",
   "mimetype": "text/x-python",
   "name": "python",
   "nbconvert_exporter": "python",
   "pygments_lexer": "ipython3",
   "version": "3.13.5"
  }
 },
 "nbformat": 4,
 "nbformat_minor": 5
}
